{
 "cells": [
  {
   "cell_type": "markdown",
   "metadata": {},
   "source": [
    "# Домашнее задание №2\n",
    "\n",
    "\n",
    "выполнили Ботов Е., Муратшина А."
   ]
  },
  {
   "cell_type": "code",
   "execution_count": 149,
   "metadata": {
    "collapsed": false
   },
   "outputs": [],
   "source": [
    "from gensim.models import word2vec"
   ]
  },
  {
   "cell_type": "code",
   "execution_count": 150,
   "metadata": {
    "collapsed": true
   },
   "outputs": [],
   "source": [
    "import logging"
   ]
  },
  {
   "cell_type": "code",
   "execution_count": 151,
   "metadata": {
    "collapsed": true
   },
   "outputs": [],
   "source": [
    "logging.basicConfig(format='%(asctime)s : %(levelname)s : %(message)s', level=logging.INFO)"
   ]
  },
  {
   "cell_type": "code",
   "execution_count": 152,
   "metadata": {
    "collapsed": true
   },
   "outputs": [],
   "source": [
    "from gensim.models.word2vec import Text8Corpus"
   ]
  },
  {
   "cell_type": "code",
   "execution_count": 153,
   "metadata": {
    "collapsed": true
   },
   "outputs": [],
   "source": [
    "sentences = Text8Corpus(\"text8\")"
   ]
  },
  {
   "cell_type": "code",
   "execution_count": 154,
   "metadata": {
    "collapsed": true
   },
   "outputs": [],
   "source": [
    "import time\n"
   ]
  },
  {
   "cell_type": "code",
   "execution_count": 166,
   "metadata": {
    "collapsed": false
   },
   "outputs": [],
   "source": [
    "class Timing(object):\n",
    "    def __enter__(self):\n",
    "        self._startTime = time.time()\n",
    "         \n",
    "    def __exit__(self, type, value, traceback):\n",
    "        print (\"ВЫполнилось за: {:.3f} sec\".format(time.time() - self._startTime))"
   ]
  },
  {
   "cell_type": "markdown",
   "metadata": {},
   "source": [
    "# 1) Обучение"
   ]
  },
  {
   "cell_type": "code",
   "execution_count": 156,
   "metadata": {
    "collapsed": false
   },
   "outputs": [
    {
     "name": "stderr",
     "output_type": "stream",
     "text": [
      "2017-02-25 22:25:29,446 : INFO : collecting all words and their counts\n",
      "2017-02-25 22:25:29,827 : INFO : PROGRESS: at sentence #0, processed 0 words, keeping 0 word types\n",
      "2017-02-25 22:25:57,270 : INFO : collected 253854 word types from a corpus of 17005207 raw words and 1701 sentences\n",
      "2017-02-25 22:25:57,270 : INFO : Loading a fresh vocabulary\n",
      "2017-02-25 22:26:00,943 : INFO : min_count=5 retains 71290 unique words (28% of original 253854, drops 182564)\n",
      "2017-02-25 22:26:00,943 : INFO : min_count=5 leaves 16718844 word corpus (98% of original 17005207, drops 286363)\n",
      "2017-02-25 22:26:02,651 : INFO : deleting the raw counts dictionary of 253854 items\n",
      "2017-02-25 22:26:02,705 : INFO : sample=0.001 downsamples 38 most-common words\n",
      "2017-02-25 22:26:02,709 : INFO : downsampling leaves estimated 12506280 word corpus (74.8% of prior 16718844)\n",
      "2017-02-25 22:26:02,715 : INFO : estimated required memory for 71290 words and 200 dimensions: 149709000 bytes\n",
      "2017-02-25 22:26:04,169 : INFO : resetting layer weights\n",
      "2017-02-25 22:26:10,979 : INFO : training model with 3 workers on 71290 vocabulary and 200 features, using sg=0 hs=0 sample=0.001 negative=5 window=5\n",
      "2017-02-25 22:26:10,979 : INFO : expecting 1701 sentences, matching count from corpus used for vocabulary survey\n",
      "2017-02-25 22:26:12,183 : INFO : PROGRESS: at 0.19% examples, 115914 words/s, in_qsize 5, out_qsize 0\n",
      "2017-02-25 22:26:13,225 : INFO : PROGRESS: at 0.45% examples, 135792 words/s, in_qsize 6, out_qsize 0\n",
      "2017-02-25 22:26:14,248 : INFO : PROGRESS: at 0.71% examples, 142343 words/s, in_qsize 5, out_qsize 0\n",
      "2017-02-25 22:26:15,312 : INFO : PROGRESS: at 0.96% examples, 144308 words/s, in_qsize 6, out_qsize 0\n",
      "2017-02-25 22:26:16,329 : INFO : PROGRESS: at 1.22% examples, 146613 words/s, in_qsize 5, out_qsize 0\n",
      "2017-02-25 22:26:17,344 : INFO : PROGRESS: at 1.47% examples, 147224 words/s, in_qsize 6, out_qsize 0\n",
      "2017-02-25 22:26:18,350 : INFO : PROGRESS: at 1.69% examples, 145966 words/s, in_qsize 5, out_qsize 0\n",
      "2017-02-25 22:26:19,387 : INFO : PROGRESS: at 1.83% examples, 138221 words/s, in_qsize 5, out_qsize 0\n",
      "2017-02-25 22:26:20,388 : INFO : PROGRESS: at 1.95% examples, 131114 words/s, in_qsize 6, out_qsize 0\n",
      "2017-02-25 22:26:21,415 : INFO : PROGRESS: at 2.20% examples, 132724 words/s, in_qsize 4, out_qsize 1\n",
      "2017-02-25 22:26:22,432 : INFO : PROGRESS: at 2.45% examples, 134514 words/s, in_qsize 5, out_qsize 0\n",
      "2017-02-25 22:26:23,457 : INFO : PROGRESS: at 2.70% examples, 136456 words/s, in_qsize 5, out_qsize 0\n",
      "2017-02-25 22:26:24,471 : INFO : PROGRESS: at 2.86% examples, 133335 words/s, in_qsize 5, out_qsize 0\n",
      "2017-02-25 22:26:25,550 : INFO : PROGRESS: at 3.13% examples, 134845 words/s, in_qsize 6, out_qsize 0\n",
      "2017-02-25 22:26:26,576 : INFO : PROGRESS: at 3.37% examples, 135926 words/s, in_qsize 6, out_qsize 0\n",
      "2017-02-25 22:26:27,715 : INFO : PROGRESS: at 3.60% examples, 135157 words/s, in_qsize 6, out_qsize 0\n",
      "2017-02-25 22:26:28,807 : INFO : PROGRESS: at 3.74% examples, 131778 words/s, in_qsize 5, out_qsize 0\n",
      "2017-02-25 22:26:29,824 : INFO : PROGRESS: at 4.00% examples, 133150 words/s, in_qsize 6, out_qsize 0\n",
      "2017-02-25 22:26:30,840 : INFO : PROGRESS: at 4.15% examples, 131198 words/s, in_qsize 5, out_qsize 0\n",
      "2017-02-25 22:26:31,873 : INFO : PROGRESS: at 4.32% examples, 129687 words/s, in_qsize 5, out_qsize 0\n",
      "2017-02-25 22:26:32,935 : INFO : PROGRESS: at 4.47% examples, 127726 words/s, in_qsize 5, out_qsize 0\n",
      "2017-02-25 22:26:34,065 : INFO : PROGRESS: at 4.66% examples, 126700 words/s, in_qsize 5, out_qsize 1\n",
      "2017-02-25 22:26:35,082 : INFO : PROGRESS: at 4.88% examples, 127194 words/s, in_qsize 5, out_qsize 0\n",
      "2017-02-25 22:26:36,088 : INFO : PROGRESS: at 5.13% examples, 128271 words/s, in_qsize 6, out_qsize 0\n",
      "2017-02-25 22:26:37,120 : INFO : PROGRESS: at 5.37% examples, 129194 words/s, in_qsize 6, out_qsize 0\n",
      "2017-02-25 22:26:38,122 : INFO : PROGRESS: at 5.62% examples, 130179 words/s, in_qsize 4, out_qsize 0\n",
      "2017-02-25 22:26:39,202 : INFO : PROGRESS: at 5.88% examples, 131020 words/s, in_qsize 6, out_qsize 0\n",
      "2017-02-25 22:26:40,228 : INFO : PROGRESS: at 6.13% examples, 131798 words/s, in_qsize 6, out_qsize 0\n",
      "2017-02-25 22:26:41,253 : INFO : PROGRESS: at 6.36% examples, 132235 words/s, in_qsize 5, out_qsize 0\n",
      "2017-02-25 22:26:42,339 : INFO : PROGRESS: at 6.56% examples, 131669 words/s, in_qsize 6, out_qsize 0\n",
      "2017-02-25 22:26:43,405 : INFO : PROGRESS: at 6.74% examples, 130778 words/s, in_qsize 5, out_qsize 0\n",
      "2017-02-25 22:26:44,454 : INFO : PROGRESS: at 6.89% examples, 129595 words/s, in_qsize 6, out_qsize 0\n",
      "2017-02-25 22:26:45,495 : INFO : PROGRESS: at 7.13% examples, 129973 words/s, in_qsize 5, out_qsize 0\n",
      "2017-02-25 22:26:46,509 : INFO : PROGRESS: at 7.27% examples, 128793 words/s, in_qsize 6, out_qsize 0\n",
      "2017-02-25 22:26:47,544 : INFO : PROGRESS: at 7.51% examples, 129329 words/s, in_qsize 5, out_qsize 0\n",
      "2017-02-25 22:26:48,623 : INFO : PROGRESS: at 7.71% examples, 128980 words/s, in_qsize 5, out_qsize 0\n",
      "2017-02-25 22:26:49,628 : INFO : PROGRESS: at 7.89% examples, 128469 words/s, in_qsize 5, out_qsize 0\n",
      "2017-02-25 22:26:50,656 : INFO : PROGRESS: at 8.15% examples, 129230 words/s, in_qsize 6, out_qsize 0\n",
      "2017-02-25 22:26:51,762 : INFO : PROGRESS: at 8.35% examples, 128807 words/s, in_qsize 5, out_qsize 0\n",
      "2017-02-25 22:26:52,799 : INFO : PROGRESS: at 8.61% examples, 129517 words/s, in_qsize 5, out_qsize 0\n",
      "2017-02-25 22:26:53,804 : INFO : PROGRESS: at 8.84% examples, 129889 words/s, in_qsize 5, out_qsize 0\n",
      "2017-02-25 22:26:54,802 : INFO : PROGRESS: at 9.09% examples, 130467 words/s, in_qsize 5, out_qsize 0\n",
      "2017-02-25 22:26:55,828 : INFO : PROGRESS: at 9.35% examples, 131155 words/s, in_qsize 5, out_qsize 0\n",
      "2017-02-25 22:26:56,832 : INFO : PROGRESS: at 9.59% examples, 131635 words/s, in_qsize 4, out_qsize 0\n",
      "2017-02-25 22:26:57,883 : INFO : PROGRESS: at 9.82% examples, 131702 words/s, in_qsize 6, out_qsize 0\n",
      "2017-02-25 22:26:58,954 : INFO : PROGRESS: at 10.03% examples, 131547 words/s, in_qsize 5, out_qsize 0\n",
      "2017-02-25 22:26:59,982 : INFO : PROGRESS: at 10.25% examples, 131602 words/s, in_qsize 5, out_qsize 0\n",
      "2017-02-25 22:27:01,018 : INFO : PROGRESS: at 10.45% examples, 131386 words/s, in_qsize 5, out_qsize 0\n",
      "2017-02-25 22:27:02,039 : INFO : PROGRESS: at 10.69% examples, 131693 words/s, in_qsize 4, out_qsize 0\n",
      "2017-02-25 22:27:03,093 : INFO : PROGRESS: at 10.86% examples, 131153 words/s, in_qsize 5, out_qsize 0\n",
      "2017-02-25 22:27:04,156 : INFO : PROGRESS: at 11.08% examples, 131051 words/s, in_qsize 5, out_qsize 0\n",
      "2017-02-25 22:27:05,189 : INFO : PROGRESS: at 11.24% examples, 130474 words/s, in_qsize 5, out_qsize 0\n",
      "2017-02-25 22:27:06,277 : INFO : PROGRESS: at 11.41% examples, 129746 words/s, in_qsize 5, out_qsize 0\n",
      "2017-02-25 22:27:07,338 : INFO : PROGRESS: at 11.55% examples, 128865 words/s, in_qsize 5, out_qsize 0\n",
      "2017-02-25 22:27:08,354 : INFO : PROGRESS: at 11.69% examples, 128119 words/s, in_qsize 5, out_qsize 1\n",
      "2017-02-25 22:27:09,442 : INFO : PROGRESS: at 11.82% examples, 127120 words/s, in_qsize 6, out_qsize 0\n",
      "2017-02-25 22:27:10,527 : INFO : PROGRESS: at 11.98% examples, 126549 words/s, in_qsize 5, out_qsize 0\n",
      "2017-02-25 22:27:11,554 : INFO : PROGRESS: at 12.11% examples, 125748 words/s, in_qsize 5, out_qsize 0\n",
      "2017-02-25 22:27:12,628 : INFO : PROGRESS: at 12.25% examples, 124994 words/s, in_qsize 6, out_qsize 0\n",
      "2017-02-25 22:27:13,640 : INFO : PROGRESS: at 12.39% examples, 124375 words/s, in_qsize 5, out_qsize 0\n",
      "2017-02-25 22:27:14,650 : INFO : PROGRESS: at 12.52% examples, 123651 words/s, in_qsize 5, out_qsize 0\n",
      "2017-02-25 22:27:15,684 : INFO : PROGRESS: at 12.77% examples, 124083 words/s, in_qsize 5, out_qsize 0\n",
      "2017-02-25 22:27:16,701 : INFO : PROGRESS: at 12.99% examples, 124254 words/s, in_qsize 6, out_qsize 0\n",
      "2017-02-25 22:27:17,766 : INFO : PROGRESS: at 13.20% examples, 124294 words/s, in_qsize 5, out_qsize 0\n",
      "2017-02-25 22:27:18,805 : INFO : PROGRESS: at 13.43% examples, 124457 words/s, in_qsize 6, out_qsize 0\n",
      "2017-02-25 22:27:19,808 : INFO : PROGRESS: at 13.59% examples, 124149 words/s, in_qsize 5, out_qsize 0\n",
      "2017-02-25 22:27:20,827 : INFO : PROGRESS: at 13.83% examples, 124464 words/s, in_qsize 5, out_qsize 0\n",
      "2017-02-25 22:27:21,891 : INFO : PROGRESS: at 14.06% examples, 124664 words/s, in_qsize 5, out_qsize 0\n",
      "2017-02-25 22:27:22,985 : INFO : PROGRESS: at 14.31% examples, 124956 words/s, in_qsize 6, out_qsize 0\n",
      "2017-02-25 22:27:24,053 : INFO : PROGRESS: at 14.53% examples, 125033 words/s, in_qsize 5, out_qsize 0\n",
      "2017-02-25 22:27:25,042 : INFO : PROGRESS: at 14.76% examples, 125248 words/s, in_qsize 6, out_qsize 0\n",
      "2017-02-25 22:27:26,073 : INFO : PROGRESS: at 14.96% examples, 125210 words/s, in_qsize 5, out_qsize 1\n",
      "2017-02-25 22:27:27,138 : INFO : PROGRESS: at 15.17% examples, 125065 words/s, in_qsize 6, out_qsize 0\n",
      "2017-02-25 22:27:28,156 : INFO : PROGRESS: at 15.43% examples, 125440 words/s, in_qsize 5, out_qsize 0\n",
      "2017-02-25 22:27:29,187 : INFO : PROGRESS: at 15.64% examples, 125436 words/s, in_qsize 6, out_qsize 0\n",
      "2017-02-25 22:27:30,212 : INFO : PROGRESS: at 15.86% examples, 125589 words/s, in_qsize 6, out_qsize 0\n",
      "2017-02-25 22:27:31,397 : INFO : PROGRESS: at 16.05% examples, 125193 words/s, in_qsize 6, out_qsize 0\n",
      "2017-02-25 22:27:32,553 : INFO : PROGRESS: at 16.23% examples, 124767 words/s, in_qsize 6, out_qsize 0\n",
      "2017-02-25 22:27:33,569 : INFO : PROGRESS: at 16.39% examples, 124473 words/s, in_qsize 6, out_qsize 0\n",
      "2017-02-25 22:27:34,571 : INFO : PROGRESS: at 16.53% examples, 124022 words/s, in_qsize 6, out_qsize 0\n",
      "2017-02-25 22:27:35,601 : INFO : PROGRESS: at 16.67% examples, 123553 words/s, in_qsize 5, out_qsize 0\n",
      "2017-02-25 22:27:36,628 : INFO : PROGRESS: at 16.92% examples, 123877 words/s, in_qsize 4, out_qsize 0\n",
      "2017-02-25 22:27:37,712 : INFO : PROGRESS: at 17.17% examples, 124124 words/s, in_qsize 5, out_qsize 0\n",
      "2017-02-25 22:27:38,722 : INFO : PROGRESS: at 17.41% examples, 124452 words/s, in_qsize 5, out_qsize 0\n",
      "2017-02-25 22:27:39,771 : INFO : PROGRESS: at 17.67% examples, 124797 words/s, in_qsize 6, out_qsize 0\n",
      "2017-02-25 22:27:40,825 : INFO : PROGRESS: at 17.93% examples, 125149 words/s, in_qsize 5, out_qsize 0\n",
      "2017-02-25 22:27:41,858 : INFO : PROGRESS: at 18.17% examples, 125347 words/s, in_qsize 5, out_qsize 0\n",
      "2017-02-25 22:27:42,904 : INFO : PROGRESS: at 18.42% examples, 125652 words/s, in_qsize 5, out_qsize 0\n",
      "2017-02-25 22:27:43,936 : INFO : PROGRESS: at 18.65% examples, 125772 words/s, in_qsize 6, out_qsize 0\n",
      "2017-02-25 22:27:44,953 : INFO : PROGRESS: at 18.87% examples, 125869 words/s, in_qsize 6, out_qsize 0\n",
      "2017-02-25 22:27:45,968 : INFO : PROGRESS: at 19.08% examples, 125914 words/s, in_qsize 6, out_qsize 0\n",
      "2017-02-25 22:27:47,016 : INFO : PROGRESS: at 19.31% examples, 126000 words/s, in_qsize 6, out_qsize 0\n",
      "2017-02-25 22:27:48,095 : INFO : PROGRESS: at 19.55% examples, 126144 words/s, in_qsize 6, out_qsize 0\n",
      "2017-02-25 22:27:49,143 : INFO : PROGRESS: at 19.80% examples, 126381 words/s, in_qsize 6, out_qsize 0\n",
      "2017-02-25 22:27:50,192 : INFO : PROGRESS: at 20.06% examples, 126660 words/s, in_qsize 5, out_qsize 0\n",
      "2017-02-25 22:27:51,218 : INFO : PROGRESS: at 20.27% examples, 126704 words/s, in_qsize 5, out_qsize 0\n",
      "2017-02-25 22:27:52,242 : INFO : PROGRESS: at 20.53% examples, 127018 words/s, in_qsize 6, out_qsize 0\n",
      "2017-02-25 22:27:53,305 : INFO : PROGRESS: at 20.79% examples, 127270 words/s, in_qsize 5, out_qsize 0\n",
      "2017-02-25 22:27:54,317 : INFO : PROGRESS: at 21.03% examples, 127511 words/s, in_qsize 5, out_qsize 0\n",
      "2017-02-25 22:27:55,356 : INFO : PROGRESS: at 21.31% examples, 127803 words/s, in_qsize 6, out_qsize 0\n",
      "2017-02-25 22:27:56,381 : INFO : PROGRESS: at 21.55% examples, 128012 words/s, in_qsize 5, out_qsize 0\n",
      "2017-02-25 22:27:57,453 : INFO : PROGRESS: at 21.81% examples, 128231 words/s, in_qsize 5, out_qsize 0\n",
      "2017-02-25 22:27:58,463 : INFO : PROGRESS: at 22.06% examples, 128454 words/s, in_qsize 6, out_qsize 0\n",
      "2017-02-25 22:27:59,534 : INFO : PROGRESS: at 22.32% examples, 128660 words/s, in_qsize 6, out_qsize 0\n",
      "2017-02-25 22:28:00,548 : INFO : PROGRESS: at 22.56% examples, 128885 words/s, in_qsize 5, out_qsize 0\n",
      "2017-02-25 22:28:01,545 : INFO : PROGRESS: at 22.81% examples, 129119 words/s, in_qsize 5, out_qsize 0\n",
      "2017-02-25 22:28:02,568 : INFO : PROGRESS: at 23.06% examples, 129301 words/s, in_qsize 5, out_qsize 0\n",
      "2017-02-25 22:28:03,585 : INFO : PROGRESS: at 23.30% examples, 129504 words/s, in_qsize 5, out_qsize 0\n",
      "2017-02-25 22:28:04,617 : INFO : PROGRESS: at 23.55% examples, 129707 words/s, in_qsize 5, out_qsize 0\n",
      "2017-02-25 22:28:05,646 : INFO : PROGRESS: at 23.81% examples, 129941 words/s, in_qsize 6, out_qsize 0\n",
      "2017-02-25 22:28:06,651 : INFO : PROGRESS: at 24.06% examples, 130140 words/s, in_qsize 5, out_qsize 0\n",
      "2017-02-25 22:28:07,677 : INFO : PROGRESS: at 24.30% examples, 130329 words/s, in_qsize 6, out_qsize 0\n",
      "2017-02-25 22:28:08,706 : INFO : PROGRESS: at 24.55% examples, 130519 words/s, in_qsize 5, out_qsize 0\n",
      "2017-02-25 22:28:09,783 : INFO : PROGRESS: at 24.81% examples, 130731 words/s, in_qsize 5, out_qsize 0\n",
      "2017-02-25 22:28:10,827 : INFO : PROGRESS: at 25.08% examples, 130987 words/s, in_qsize 5, out_qsize 0\n",
      "2017-02-25 22:28:11,875 : INFO : PROGRESS: at 25.34% examples, 131208 words/s, in_qsize 5, out_qsize 0\n",
      "2017-02-25 22:28:12,938 : INFO : PROGRESS: at 25.61% examples, 131480 words/s, in_qsize 5, out_qsize 0\n",
      "2017-02-25 22:28:13,970 : INFO : PROGRESS: at 25.84% examples, 131581 words/s, in_qsize 5, out_qsize 0\n",
      "2017-02-25 22:28:15,003 : INFO : PROGRESS: at 26.00% examples, 131263 words/s, in_qsize 5, out_qsize 0\n",
      "2017-02-25 22:28:16,076 : INFO : PROGRESS: at 26.15% examples, 130919 words/s, in_qsize 6, out_qsize 0\n",
      "2017-02-25 22:28:17,246 : INFO : PROGRESS: at 26.29% examples, 130410 words/s, in_qsize 5, out_qsize 0\n",
      "2017-02-25 22:28:18,260 : INFO : PROGRESS: at 26.41% examples, 129951 words/s, in_qsize 5, out_qsize 0\n",
      "2017-02-25 22:28:19,304 : INFO : PROGRESS: at 26.60% examples, 129821 words/s, in_qsize 5, out_qsize 1\n",
      "2017-02-25 22:28:20,497 : INFO : PROGRESS: at 26.84% examples, 129836 words/s, in_qsize 6, out_qsize 0\n",
      "2017-02-25 22:28:21,508 : INFO : PROGRESS: at 27.00% examples, 129569 words/s, in_qsize 6, out_qsize 0\n",
      "2017-02-25 22:28:22,655 : INFO : PROGRESS: at 27.20% examples, 129404 words/s, in_qsize 6, out_qsize 0\n",
      "2017-02-25 22:28:23,674 : INFO : PROGRESS: at 27.42% examples, 129455 words/s, in_qsize 5, out_qsize 0\n",
      "2017-02-25 22:28:24,747 : INFO : PROGRESS: at 27.67% examples, 129563 words/s, in_qsize 6, out_qsize 0\n",
      "2017-02-25 22:28:25,772 : INFO : PROGRESS: at 27.91% examples, 129743 words/s, in_qsize 4, out_qsize 0\n",
      "2017-02-25 22:28:26,807 : INFO : PROGRESS: at 28.14% examples, 129772 words/s, in_qsize 5, out_qsize 0\n",
      "2017-02-25 22:28:27,862 : INFO : PROGRESS: at 28.40% examples, 129965 words/s, in_qsize 5, out_qsize 0\n",
      "2017-02-25 22:28:28,896 : INFO : PROGRESS: at 28.64% examples, 130122 words/s, in_qsize 5, out_qsize 0\n",
      "2017-02-25 22:28:29,890 : INFO : PROGRESS: at 28.89% examples, 130293 words/s, in_qsize 6, out_qsize 0\n",
      "2017-02-25 22:28:30,901 : INFO : PROGRESS: at 29.14% examples, 130468 words/s, in_qsize 5, out_qsize 0\n",
      "2017-02-25 22:28:31,912 : INFO : PROGRESS: at 29.38% examples, 130629 words/s, in_qsize 6, out_qsize 0\n",
      "2017-02-25 22:28:32,958 : INFO : PROGRESS: at 29.64% examples, 130814 words/s, in_qsize 6, out_qsize 0\n",
      "2017-02-25 22:28:33,977 : INFO : PROGRESS: at 29.89% examples, 130973 words/s, in_qsize 6, out_qsize 0\n",
      "2017-02-25 22:28:35,041 : INFO : PROGRESS: at 30.15% examples, 131126 words/s, in_qsize 5, out_qsize 0\n",
      "2017-02-25 22:28:36,077 : INFO : PROGRESS: at 30.38% examples, 131207 words/s, in_qsize 5, out_qsize 0\n",
      "2017-02-25 22:28:37,143 : INFO : PROGRESS: at 30.62% examples, 131272 words/s, in_qsize 5, out_qsize 0\n",
      "2017-02-25 22:28:38,166 : INFO : PROGRESS: at 30.85% examples, 131361 words/s, in_qsize 6, out_qsize 0\n",
      "2017-02-25 22:28:39,223 : INFO : PROGRESS: at 31.04% examples, 131229 words/s, in_qsize 5, out_qsize 0\n",
      "2017-02-25 22:28:40,253 : INFO : PROGRESS: at 31.28% examples, 131317 words/s, in_qsize 5, out_qsize 0\n",
      "2017-02-25 22:28:41,246 : INFO : PROGRESS: at 31.50% examples, 131363 words/s, in_qsize 5, out_qsize 0\n",
      "2017-02-25 22:28:42,275 : INFO : PROGRESS: at 31.75% examples, 131501 words/s, in_qsize 6, out_qsize 0\n",
      "2017-02-25 22:28:43,348 : INFO : PROGRESS: at 31.99% examples, 131597 words/s, in_qsize 4, out_qsize 1\n",
      "2017-02-25 22:28:44,395 : INFO : PROGRESS: at 32.24% examples, 131713 words/s, in_qsize 6, out_qsize 0\n",
      "2017-02-25 22:28:45,434 : INFO : PROGRESS: at 32.49% examples, 131819 words/s, in_qsize 6, out_qsize 0\n",
      "2017-02-25 22:28:46,489 : INFO : PROGRESS: at 32.73% examples, 131923 words/s, in_qsize 6, out_qsize 0\n",
      "2017-02-25 22:28:47,498 : INFO : PROGRESS: at 32.97% examples, 132006 words/s, in_qsize 5, out_qsize 0\n",
      "2017-02-25 22:28:48,538 : INFO : PROGRESS: at 33.22% examples, 132111 words/s, in_qsize 5, out_qsize 0\n",
      "2017-02-25 22:28:49,569 : INFO : PROGRESS: at 33.46% examples, 132234 words/s, in_qsize 6, out_qsize 0\n",
      "2017-02-25 22:28:50,569 : INFO : PROGRESS: at 33.71% examples, 132377 words/s, in_qsize 5, out_qsize 0\n",
      "2017-02-25 22:28:51,588 : INFO : PROGRESS: at 33.96% examples, 132500 words/s, in_qsize 5, out_qsize 0\n",
      "2017-02-25 22:28:52,634 : INFO : PROGRESS: at 34.22% examples, 132653 words/s, in_qsize 5, out_qsize 0\n",
      "2017-02-25 22:28:53,662 : INFO : PROGRESS: at 34.46% examples, 132774 words/s, in_qsize 5, out_qsize 0\n",
      "2017-02-25 22:28:54,683 : INFO : PROGRESS: at 34.70% examples, 132849 words/s, in_qsize 5, out_qsize 0\n",
      "2017-02-25 22:28:55,698 : INFO : PROGRESS: at 34.94% examples, 132970 words/s, in_qsize 5, out_qsize 0\n",
      "2017-02-25 22:28:56,700 : INFO : PROGRESS: at 35.19% examples, 133027 words/s, in_qsize 5, out_qsize 0\n",
      "2017-02-25 22:28:57,965 : INFO : PROGRESS: at 35.44% examples, 132923 words/s, in_qsize 6, out_qsize 0\n",
      "2017-02-25 22:28:59,033 : INFO : PROGRESS: at 35.57% examples, 132553 words/s, in_qsize 6, out_qsize 0\n",
      "2017-02-25 22:29:00,064 : INFO : PROGRESS: at 35.70% examples, 132222 words/s, in_qsize 5, out_qsize 0\n",
      "2017-02-25 22:29:01,054 : INFO : PROGRESS: at 35.85% examples, 132002 words/s, in_qsize 5, out_qsize 0\n",
      "2017-02-25 22:29:02,132 : INFO : PROGRESS: at 36.01% examples, 131773 words/s, in_qsize 5, out_qsize 0\n",
      "2017-02-25 22:29:03,141 : INFO : PROGRESS: at 36.20% examples, 131672 words/s, in_qsize 5, out_qsize 0\n",
      "2017-02-25 22:29:04,274 : INFO : PROGRESS: at 36.45% examples, 131706 words/s, in_qsize 5, out_qsize 0\n",
      "2017-02-25 22:29:05,290 : INFO : PROGRESS: at 36.65% examples, 131655 words/s, in_qsize 6, out_qsize 0\n",
      "2017-02-25 22:29:06,334 : INFO : PROGRESS: at 36.80% examples, 131425 words/s, in_qsize 6, out_qsize 0\n",
      "2017-02-25 22:29:07,427 : INFO : PROGRESS: at 36.99% examples, 131268 words/s, in_qsize 5, out_qsize 0\n",
      "2017-02-25 22:29:08,429 : INFO : PROGRESS: at 37.21% examples, 131306 words/s, in_qsize 5, out_qsize 0\n",
      "2017-02-25 22:29:09,489 : INFO : PROGRESS: at 37.41% examples, 131230 words/s, in_qsize 5, out_qsize 0\n",
      "2017-02-25 22:29:10,638 : INFO : PROGRESS: at 37.57% examples, 130920 words/s, in_qsize 5, out_qsize 0\n",
      "2017-02-25 22:29:11,924 : INFO : PROGRESS: at 37.71% examples, 130484 words/s, in_qsize 6, out_qsize 0\n",
      "2017-02-25 22:29:13,001 : INFO : PROGRESS: at 37.82% examples, 130121 words/s, in_qsize 6, out_qsize 0\n",
      "2017-02-25 22:29:14,018 : INFO : PROGRESS: at 38.02% examples, 130090 words/s, in_qsize 5, out_qsize 0\n",
      "2017-02-25 22:29:15,075 : INFO : PROGRESS: at 38.18% examples, 129852 words/s, in_qsize 5, out_qsize 0\n",
      "2017-02-25 22:29:16,103 : INFO : PROGRESS: at 38.41% examples, 129904 words/s, in_qsize 6, out_qsize 0\n",
      "2017-02-25 22:29:17,154 : INFO : PROGRESS: at 38.58% examples, 129730 words/s, in_qsize 5, out_qsize 0\n",
      "2017-02-25 22:29:18,160 : INFO : PROGRESS: at 38.79% examples, 129730 words/s, in_qsize 5, out_qsize 0\n",
      "2017-02-25 22:29:19,243 : INFO : PROGRESS: at 38.98% examples, 129611 words/s, in_qsize 4, out_qsize 1\n",
      "2017-02-25 22:29:20,284 : INFO : PROGRESS: at 39.12% examples, 129367 words/s, in_qsize 6, out_qsize 0\n",
      "2017-02-25 22:29:21,320 : INFO : PROGRESS: at 39.34% examples, 129388 words/s, in_qsize 5, out_qsize 0\n",
      "2017-02-25 22:29:22,393 : INFO : PROGRESS: at 39.46% examples, 129043 words/s, in_qsize 5, out_qsize 1\n",
      "2017-02-25 22:29:23,438 : INFO : PROGRESS: at 39.58% examples, 128716 words/s, in_qsize 6, out_qsize 0\n",
      "2017-02-25 22:29:24,570 : INFO : PROGRESS: at 39.69% examples, 128339 words/s, in_qsize 5, out_qsize 0\n",
      "2017-02-25 22:29:25,604 : INFO : PROGRESS: at 39.85% examples, 128147 words/s, in_qsize 4, out_qsize 1\n",
      "2017-02-25 22:29:26,653 : INFO : PROGRESS: at 40.09% examples, 128254 words/s, in_qsize 5, out_qsize 0\n",
      "2017-02-25 22:29:27,669 : INFO : PROGRESS: at 40.34% examples, 128371 words/s, in_qsize 5, out_qsize 0\n",
      "2017-02-25 22:29:28,701 : INFO : PROGRESS: at 40.59% examples, 128496 words/s, in_qsize 5, out_qsize 0\n",
      "2017-02-25 22:29:29,697 : INFO : PROGRESS: at 40.82% examples, 128582 words/s, in_qsize 6, out_qsize 0\n",
      "2017-02-25 22:29:30,702 : INFO : PROGRESS: at 41.07% examples, 128699 words/s, in_qsize 5, out_qsize 0\n",
      "2017-02-25 22:29:31,718 : INFO : PROGRESS: at 41.32% examples, 128786 words/s, in_qsize 6, out_qsize 0\n",
      "2017-02-25 22:29:32,974 : INFO : PROGRESS: at 41.58% examples, 128790 words/s, in_qsize 5, out_qsize 0\n",
      "2017-02-25 22:29:34,110 : INFO : PROGRESS: at 41.69% examples, 128425 words/s, in_qsize 5, out_qsize 0\n",
      "2017-02-25 22:29:35,125 : INFO : PROGRESS: at 41.87% examples, 128327 words/s, in_qsize 5, out_qsize 0\n",
      "2017-02-25 22:29:36,124 : INFO : PROGRESS: at 42.10% examples, 128404 words/s, in_qsize 6, out_qsize 0\n",
      "2017-02-25 22:29:37,173 : INFO : PROGRESS: at 42.29% examples, 128323 words/s, in_qsize 6, out_qsize 0\n",
      "2017-02-25 22:29:38,214 : INFO : PROGRESS: at 42.53% examples, 128388 words/s, in_qsize 5, out_qsize 0\n",
      "2017-02-25 22:29:39,225 : INFO : PROGRESS: at 42.79% examples, 128542 words/s, in_qsize 5, out_qsize 0\n",
      "2017-02-25 22:29:40,287 : INFO : PROGRESS: at 43.06% examples, 128693 words/s, in_qsize 6, out_qsize 0\n",
      "2017-02-25 22:29:41,316 : INFO : PROGRESS: at 43.32% examples, 128833 words/s, in_qsize 6, out_qsize 0\n",
      "2017-02-25 22:29:42,346 : INFO : PROGRESS: at 43.57% examples, 128976 words/s, in_qsize 5, out_qsize 0\n",
      "2017-02-25 22:29:43,346 : INFO : PROGRESS: at 43.83% examples, 129123 words/s, in_qsize 5, out_qsize 0\n",
      "2017-02-25 22:29:44,377 : INFO : PROGRESS: at 44.09% examples, 129255 words/s, in_qsize 5, out_qsize 0\n",
      "2017-02-25 22:29:45,396 : INFO : PROGRESS: at 44.34% examples, 129364 words/s, in_qsize 5, out_qsize 0\n",
      "2017-02-25 22:29:46,444 : INFO : PROGRESS: at 44.60% examples, 129497 words/s, in_qsize 6, out_qsize 0\n",
      "2017-02-25 22:29:47,446 : INFO : PROGRESS: at 44.84% examples, 129619 words/s, in_qsize 5, out_qsize 0\n",
      "2017-02-25 22:29:48,463 : INFO : PROGRESS: at 45.10% examples, 129758 words/s, in_qsize 6, out_qsize 0\n",
      "2017-02-25 22:29:49,527 : INFO : PROGRESS: at 45.36% examples, 129883 words/s, in_qsize 6, out_qsize 0\n",
      "2017-02-25 22:29:50,560 : INFO : PROGRESS: at 45.58% examples, 129914 words/s, in_qsize 6, out_qsize 0\n",
      "2017-02-25 22:29:51,562 : INFO : PROGRESS: at 45.84% examples, 130058 words/s, in_qsize 5, out_qsize 0\n",
      "2017-02-25 22:29:52,673 : INFO : PROGRESS: at 46.10% examples, 130148 words/s, in_qsize 6, out_qsize 0\n",
      "2017-02-25 22:29:53,689 : INFO : PROGRESS: at 46.37% examples, 130320 words/s, in_qsize 4, out_qsize 0\n",
      "2017-02-25 22:29:54,767 : INFO : PROGRESS: at 46.60% examples, 130334 words/s, in_qsize 6, out_qsize 0\n",
      "2017-02-25 22:29:55,771 : INFO : PROGRESS: at 46.82% examples, 130377 words/s, in_qsize 5, out_qsize 0\n",
      "2017-02-25 22:29:56,807 : INFO : PROGRESS: at 46.96% examples, 130179 words/s, in_qsize 5, out_qsize 0\n",
      "2017-02-25 22:29:57,830 : INFO : PROGRESS: at 47.10% examples, 129985 words/s, in_qsize 5, out_qsize 0\n",
      "2017-02-25 22:29:58,906 : INFO : PROGRESS: at 47.28% examples, 129864 words/s, in_qsize 5, out_qsize 0\n",
      "2017-02-25 22:29:59,937 : INFO : PROGRESS: at 47.43% examples, 129694 words/s, in_qsize 6, out_qsize 0\n",
      "2017-02-25 22:30:01,107 : INFO : PROGRESS: at 47.60% examples, 129484 words/s, in_qsize 5, out_qsize 0\n",
      "2017-02-25 22:30:02,130 : INFO : PROGRESS: at 47.81% examples, 129476 words/s, in_qsize 6, out_qsize 0\n",
      "2017-02-25 22:30:03,207 : INFO : PROGRESS: at 48.00% examples, 129388 words/s, in_qsize 6, out_qsize 0\n",
      "2017-02-25 22:30:04,216 : INFO : PROGRESS: at 48.15% examples, 129230 words/s, in_qsize 5, out_qsize 0\n",
      "2017-02-25 22:30:05,302 : INFO : PROGRESS: at 48.28% examples, 128982 words/s, in_qsize 5, out_qsize 0\n",
      "2017-02-25 22:30:06,306 : INFO : PROGRESS: at 48.48% examples, 128967 words/s, in_qsize 5, out_qsize 0\n",
      "2017-02-25 22:30:07,321 : INFO : PROGRESS: at 48.68% examples, 128940 words/s, in_qsize 6, out_qsize 0\n",
      "2017-02-25 22:30:08,357 : INFO : PROGRESS: at 48.84% examples, 128816 words/s, in_qsize 5, out_qsize 0\n",
      "2017-02-25 22:30:09,360 : INFO : PROGRESS: at 49.02% examples, 128734 words/s, in_qsize 5, out_qsize 0\n",
      "2017-02-25 22:30:10,388 : INFO : PROGRESS: at 49.18% examples, 128619 words/s, in_qsize 6, out_qsize 0\n",
      "2017-02-25 22:30:11,425 : INFO : PROGRESS: at 49.37% examples, 128551 words/s, in_qsize 5, out_qsize 0\n",
      "2017-02-25 22:30:12,473 : INFO : PROGRESS: at 49.59% examples, 128580 words/s, in_qsize 6, out_qsize 0\n",
      "2017-02-25 22:30:13,506 : INFO : PROGRESS: at 49.78% examples, 128520 words/s, in_qsize 6, out_qsize 0\n",
      "2017-02-25 22:30:14,516 : INFO : PROGRESS: at 49.97% examples, 128467 words/s, in_qsize 6, out_qsize 0\n",
      "2017-02-25 22:30:15,552 : INFO : PROGRESS: at 50.17% examples, 128445 words/s, in_qsize 5, out_qsize 0\n",
      "2017-02-25 22:30:16,555 : INFO : PROGRESS: at 50.35% examples, 128364 words/s, in_qsize 5, out_qsize 0\n",
      "2017-02-25 22:30:17,583 : INFO : PROGRESS: at 50.55% examples, 128337 words/s, in_qsize 6, out_qsize 0\n",
      "2017-02-25 22:30:18,659 : INFO : PROGRESS: at 50.72% examples, 128229 words/s, in_qsize 5, out_qsize 0\n",
      "2017-02-25 22:30:19,717 : INFO : PROGRESS: at 50.97% examples, 128311 words/s, in_qsize 6, out_qsize 0\n",
      "2017-02-25 22:30:20,750 : INFO : PROGRESS: at 51.19% examples, 128348 words/s, in_qsize 6, out_qsize 0\n",
      "2017-02-25 22:30:21,775 : INFO : PROGRESS: at 51.41% examples, 128347 words/s, in_qsize 5, out_qsize 0\n",
      "2017-02-25 22:30:22,794 : INFO : PROGRESS: at 51.57% examples, 128237 words/s, in_qsize 6, out_qsize 0\n",
      "2017-02-25 22:30:23,810 : INFO : PROGRESS: at 51.70% examples, 128042 words/s, in_qsize 5, out_qsize 0\n",
      "2017-02-25 22:30:24,813 : INFO : PROGRESS: at 51.86% examples, 127944 words/s, in_qsize 6, out_qsize 0\n",
      "2017-02-25 22:30:25,894 : INFO : PROGRESS: at 52.03% examples, 127809 words/s, in_qsize 5, out_qsize 0\n",
      "2017-02-25 22:30:26,899 : INFO : PROGRESS: at 52.22% examples, 127761 words/s, in_qsize 5, out_qsize 0\n",
      "2017-02-25 22:30:27,916 : INFO : PROGRESS: at 52.44% examples, 127806 words/s, in_qsize 5, out_qsize 0\n",
      "2017-02-25 22:30:28,950 : INFO : PROGRESS: at 52.66% examples, 127838 words/s, in_qsize 5, out_qsize 0\n",
      "2017-02-25 22:30:29,965 : INFO : PROGRESS: at 52.86% examples, 127819 words/s, in_qsize 5, out_qsize 0\n",
      "2017-02-25 22:30:30,979 : INFO : PROGRESS: at 53.05% examples, 127773 words/s, in_qsize 5, out_qsize 0\n",
      "2017-02-25 22:30:31,986 : INFO : PROGRESS: at 53.25% examples, 127759 words/s, in_qsize 5, out_qsize 0\n",
      "2017-02-25 22:30:32,991 : INFO : PROGRESS: at 53.42% examples, 127662 words/s, in_qsize 5, out_qsize 0\n",
      "2017-02-25 22:30:34,019 : INFO : PROGRESS: at 53.62% examples, 127643 words/s, in_qsize 5, out_qsize 0\n",
      "2017-02-25 22:30:35,061 : INFO : PROGRESS: at 53.84% examples, 127671 words/s, in_qsize 5, out_qsize 0\n",
      "2017-02-25 22:30:36,062 : INFO : PROGRESS: at 54.00% examples, 127575 words/s, in_qsize 5, out_qsize 0\n",
      "2017-02-25 22:30:37,321 : INFO : PROGRESS: at 54.13% examples, 127281 words/s, in_qsize 6, out_qsize 0\n",
      "2017-02-25 22:30:38,416 : INFO : PROGRESS: at 54.34% examples, 127254 words/s, in_qsize 6, out_qsize 0\n",
      "2017-02-25 22:30:39,488 : INFO : PROGRESS: at 54.53% examples, 127188 words/s, in_qsize 6, out_qsize 0\n",
      "2017-02-25 22:30:40,641 : INFO : PROGRESS: at 54.74% examples, 127142 words/s, in_qsize 5, out_qsize 0\n",
      "2017-02-25 22:30:41,662 : INFO : PROGRESS: at 54.90% examples, 127010 words/s, in_qsize 5, out_qsize 0\n",
      "2017-02-25 22:30:42,669 : INFO : PROGRESS: at 55.13% examples, 127043 words/s, in_qsize 5, out_qsize 0\n",
      "2017-02-25 22:30:43,743 : INFO : PROGRESS: at 55.36% examples, 127041 words/s, in_qsize 6, out_qsize 0\n",
      "2017-02-25 22:30:44,779 : INFO : PROGRESS: at 55.60% examples, 127108 words/s, in_qsize 5, out_qsize 0\n",
      "2017-02-25 22:30:45,858 : INFO : PROGRESS: at 55.85% examples, 127174 words/s, in_qsize 5, out_qsize 0\n",
      "2017-02-25 22:30:46,868 : INFO : PROGRESS: at 56.11% examples, 127295 words/s, in_qsize 6, out_qsize 0\n",
      "2017-02-25 22:30:47,877 : INFO : PROGRESS: at 56.36% examples, 127384 words/s, in_qsize 6, out_qsize 0\n",
      "2017-02-25 22:30:48,898 : INFO : PROGRESS: at 56.63% examples, 127521 words/s, in_qsize 4, out_qsize 0\n",
      "2017-02-25 22:30:49,890 : INFO : PROGRESS: at 56.86% examples, 127596 words/s, in_qsize 6, out_qsize 0\n",
      "2017-02-25 22:30:50,975 : INFO : PROGRESS: at 57.13% examples, 127708 words/s, in_qsize 5, out_qsize 0\n",
      "2017-02-25 22:30:51,993 : INFO : PROGRESS: at 57.40% examples, 127843 words/s, in_qsize 5, out_qsize 0\n",
      "2017-02-25 22:30:52,995 : INFO : PROGRESS: at 57.65% examples, 127938 words/s, in_qsize 4, out_qsize 0\n",
      "2017-02-25 22:30:54,022 : INFO : PROGRESS: at 57.88% examples, 127997 words/s, in_qsize 5, out_qsize 0\n",
      "2017-02-25 22:30:55,059 : INFO : PROGRESS: at 58.11% examples, 128030 words/s, in_qsize 6, out_qsize 0\n",
      "2017-02-25 22:30:56,168 : INFO : PROGRESS: at 58.39% examples, 128136 words/s, in_qsize 5, out_qsize 1\n",
      "2017-02-25 22:30:57,187 : INFO : PROGRESS: at 58.65% examples, 128246 words/s, in_qsize 6, out_qsize 0\n",
      "2017-02-25 22:30:58,196 : INFO : PROGRESS: at 58.92% examples, 128374 words/s, in_qsize 5, out_qsize 0\n",
      "2017-02-25 22:30:59,207 : INFO : PROGRESS: at 59.17% examples, 128463 words/s, in_qsize 5, out_qsize 0\n",
      "2017-02-25 22:31:00,263 : INFO : PROGRESS: at 59.44% examples, 128572 words/s, in_qsize 5, out_qsize 0\n",
      "2017-02-25 22:31:01,304 : INFO : PROGRESS: at 59.69% examples, 128657 words/s, in_qsize 5, out_qsize 0\n",
      "2017-02-25 22:31:02,331 : INFO : PROGRESS: at 59.95% examples, 128772 words/s, in_qsize 5, out_qsize 0\n",
      "2017-02-25 22:31:03,354 : INFO : PROGRESS: at 60.21% examples, 128863 words/s, in_qsize 5, out_qsize 0\n",
      "2017-02-25 22:31:04,372 : INFO : PROGRESS: at 60.47% examples, 128971 words/s, in_qsize 5, out_qsize 0\n",
      "2017-02-25 22:31:05,408 : INFO : PROGRESS: at 60.73% examples, 129068 words/s, in_qsize 5, out_qsize 0\n",
      "2017-02-25 22:31:06,466 : INFO : PROGRESS: at 61.00% examples, 129168 words/s, in_qsize 5, out_qsize 0\n",
      "2017-02-25 22:31:07,498 : INFO : PROGRESS: at 61.26% examples, 129251 words/s, in_qsize 5, out_qsize 0\n",
      "2017-02-25 22:31:08,516 : INFO : PROGRESS: at 61.53% examples, 129367 words/s, in_qsize 5, out_qsize 0\n",
      "2017-02-25 22:31:09,547 : INFO : PROGRESS: at 61.80% examples, 129484 words/s, in_qsize 5, out_qsize 0\n",
      "2017-02-25 22:31:10,561 : INFO : PROGRESS: at 62.05% examples, 129561 words/s, in_qsize 5, out_qsize 0\n",
      "2017-02-25 22:31:11,637 : INFO : PROGRESS: at 62.32% examples, 129649 words/s, in_qsize 5, out_qsize 0\n",
      "2017-02-25 22:31:12,672 : INFO : PROGRESS: at 62.46% examples, 129504 words/s, in_qsize 5, out_qsize 0\n",
      "2017-02-25 22:31:13,747 : INFO : PROGRESS: at 62.65% examples, 129431 words/s, in_qsize 6, out_qsize 0\n",
      "2017-02-25 22:31:14,775 : INFO : PROGRESS: at 62.81% examples, 129335 words/s, in_qsize 5, out_qsize 0\n",
      "2017-02-25 22:31:15,801 : INFO : PROGRESS: at 63.07% examples, 129423 words/s, in_qsize 5, out_qsize 0\n",
      "2017-02-25 22:31:16,807 : INFO : PROGRESS: at 63.33% examples, 129524 words/s, in_qsize 5, out_qsize 0\n",
      "2017-02-25 22:31:17,830 : INFO : PROGRESS: at 63.46% examples, 129360 words/s, in_qsize 5, out_qsize 0\n",
      "2017-02-25 22:31:18,835 : INFO : PROGRESS: at 63.63% examples, 129297 words/s, in_qsize 5, out_qsize 0\n",
      "2017-02-25 22:31:19,874 : INFO : PROGRESS: at 63.83% examples, 129261 words/s, in_qsize 6, out_qsize 0\n",
      "2017-02-25 22:31:20,893 : INFO : PROGRESS: at 64.06% examples, 129288 words/s, in_qsize 6, out_qsize 0\n",
      "2017-02-25 22:31:21,977 : INFO : PROGRESS: at 64.26% examples, 129244 words/s, in_qsize 4, out_qsize 1\n",
      "2017-02-25 22:31:22,987 : INFO : PROGRESS: at 64.46% examples, 129220 words/s, in_qsize 6, out_qsize 0\n",
      "2017-02-25 22:31:24,037 : INFO : PROGRESS: at 64.66% examples, 129200 words/s, in_qsize 6, out_qsize 0\n",
      "2017-02-25 22:31:25,110 : INFO : PROGRESS: at 64.77% examples, 129000 words/s, in_qsize 6, out_qsize 0\n",
      "2017-02-25 22:31:26,168 : INFO : PROGRESS: at 64.89% examples, 128798 words/s, in_qsize 5, out_qsize 0\n",
      "2017-02-25 22:31:27,218 : INFO : PROGRESS: at 65.02% examples, 128623 words/s, in_qsize 6, out_qsize 0\n",
      "2017-02-25 22:31:28,334 : INFO : PROGRESS: at 65.23% examples, 128595 words/s, in_qsize 5, out_qsize 0\n",
      "2017-02-25 22:31:29,379 : INFO : PROGRESS: at 65.40% examples, 128495 words/s, in_qsize 6, out_qsize 0\n",
      "2017-02-25 22:31:30,404 : INFO : PROGRESS: at 65.61% examples, 128509 words/s, in_qsize 5, out_qsize 0\n",
      "2017-02-25 22:31:31,405 : INFO : PROGRESS: at 65.77% examples, 128431 words/s, in_qsize 5, out_qsize 0\n",
      "2017-02-25 22:31:32,497 : INFO : PROGRESS: at 65.97% examples, 128394 words/s, in_qsize 6, out_qsize 0\n",
      "2017-02-25 22:31:33,520 : INFO : PROGRESS: at 66.15% examples, 128331 words/s, in_qsize 5, out_qsize 0\n",
      "2017-02-25 22:31:34,547 : INFO : PROGRESS: at 66.35% examples, 128313 words/s, in_qsize 5, out_qsize 0\n",
      "2017-02-25 22:31:35,554 : INFO : PROGRESS: at 66.53% examples, 128260 words/s, in_qsize 6, out_qsize 0\n",
      "2017-02-25 22:31:36,571 : INFO : PROGRESS: at 66.74% examples, 128272 words/s, in_qsize 6, out_qsize 0\n",
      "2017-02-25 22:31:37,573 : INFO : PROGRESS: at 66.89% examples, 128174 words/s, in_qsize 6, out_qsize 0\n",
      "2017-02-25 22:31:38,590 : INFO : PROGRESS: at 67.07% examples, 128116 words/s, in_qsize 6, out_qsize 0\n",
      "2017-02-25 22:31:39,632 : INFO : PROGRESS: at 67.25% examples, 128074 words/s, in_qsize 5, out_qsize 0\n",
      "2017-02-25 22:31:40,692 : INFO : PROGRESS: at 67.50% examples, 128126 words/s, in_qsize 6, out_qsize 0\n",
      "2017-02-25 22:31:41,728 : INFO : PROGRESS: at 67.77% examples, 128238 words/s, in_qsize 6, out_qsize 0\n",
      "2017-02-25 22:31:42,723 : INFO : PROGRESS: at 68.02% examples, 128318 words/s, in_qsize 5, out_qsize 0\n",
      "2017-02-25 22:31:43,740 : INFO : PROGRESS: at 68.28% examples, 128410 words/s, in_qsize 5, out_qsize 0\n",
      "2017-02-25 22:31:44,758 : INFO : PROGRESS: at 68.49% examples, 128424 words/s, in_qsize 5, out_qsize 0\n",
      "2017-02-25 22:31:45,813 : INFO : PROGRESS: at 68.76% examples, 128520 words/s, in_qsize 5, out_qsize 0\n",
      "2017-02-25 22:31:46,887 : INFO : PROGRESS: at 69.02% examples, 128597 words/s, in_qsize 5, out_qsize 0\n",
      "2017-02-25 22:31:47,945 : INFO : PROGRESS: at 69.19% examples, 128523 words/s, in_qsize 6, out_qsize 0\n",
      "2017-02-25 22:31:48,941 : INFO : PROGRESS: at 69.44% examples, 128602 words/s, in_qsize 6, out_qsize 0\n",
      "2017-02-25 22:31:49,972 : INFO : PROGRESS: at 69.70% examples, 128690 words/s, in_qsize 5, out_qsize 0\n",
      "2017-02-25 22:31:51,024 : INFO : PROGRESS: at 69.96% examples, 128774 words/s, in_qsize 5, out_qsize 0\n",
      "2017-02-25 22:31:52,068 : INFO : PROGRESS: at 70.18% examples, 128794 words/s, in_qsize 6, out_qsize 0\n",
      "2017-02-25 22:31:53,178 : INFO : PROGRESS: at 70.45% examples, 128865 words/s, in_qsize 5, out_qsize 0\n",
      "2017-02-25 22:31:54,212 : INFO : PROGRESS: at 70.68% examples, 128890 words/s, in_qsize 6, out_qsize 0\n",
      "2017-02-25 22:31:55,213 : INFO : PROGRESS: at 70.92% examples, 128965 words/s, in_qsize 5, out_qsize 0\n",
      "2017-02-25 22:31:56,260 : INFO : PROGRESS: at 71.17% examples, 129028 words/s, in_qsize 5, out_qsize 0\n",
      "2017-02-25 22:31:57,348 : INFO : PROGRESS: at 71.44% examples, 129107 words/s, in_qsize 5, out_qsize 0\n",
      "2017-02-25 22:31:58,407 : INFO : PROGRESS: at 71.65% examples, 129099 words/s, in_qsize 5, out_qsize 0\n",
      "2017-02-25 22:31:59,408 : INFO : PROGRESS: at 71.83% examples, 129045 words/s, in_qsize 6, out_qsize 0\n",
      "2017-02-25 22:32:00,550 : INFO : PROGRESS: at 72.03% examples, 128984 words/s, in_qsize 5, out_qsize 0\n",
      "2017-02-25 22:32:01,600 : INFO : PROGRESS: at 72.20% examples, 128915 words/s, in_qsize 5, out_qsize 0\n",
      "2017-02-25 22:32:02,602 : INFO : PROGRESS: at 72.39% examples, 128881 words/s, in_qsize 5, out_qsize 0\n",
      "2017-02-25 22:32:03,597 : INFO : PROGRESS: at 72.59% examples, 128869 words/s, in_qsize 5, out_qsize 0\n",
      "2017-02-25 22:32:04,614 : INFO : PROGRESS: at 72.84% examples, 128936 words/s, in_qsize 5, out_qsize 0\n",
      "2017-02-25 22:32:05,791 : INFO : PROGRESS: at 72.96% examples, 128718 words/s, in_qsize 6, out_qsize 0\n",
      "2017-02-25 22:32:06,880 : INFO : PROGRESS: at 73.10% examples, 128571 words/s, in_qsize 6, out_qsize 0\n",
      "2017-02-25 22:32:07,933 : INFO : PROGRESS: at 73.27% examples, 128499 words/s, in_qsize 6, out_qsize 0\n",
      "2017-02-25 22:32:08,974 : INFO : PROGRESS: at 73.50% examples, 128519 words/s, in_qsize 6, out_qsize 0\n",
      "2017-02-25 22:32:10,053 : INFO : PROGRESS: at 73.62% examples, 128340 words/s, in_qsize 6, out_qsize 0\n",
      "2017-02-25 22:32:11,086 : INFO : PROGRESS: at 73.77% examples, 128239 words/s, in_qsize 5, out_qsize 0\n",
      "2017-02-25 22:32:12,210 : INFO : PROGRESS: at 73.96% examples, 128164 words/s, in_qsize 5, out_qsize 0\n",
      "2017-02-25 22:32:13,231 : INFO : PROGRESS: at 74.14% examples, 128131 words/s, in_qsize 5, out_qsize 0\n",
      "2017-02-25 22:32:14,272 : INFO : PROGRESS: at 74.34% examples, 128107 words/s, in_qsize 5, out_qsize 0\n",
      "2017-02-25 22:32:15,289 : INFO : PROGRESS: at 74.56% examples, 128115 words/s, in_qsize 6, out_qsize 0\n",
      "2017-02-25 22:32:16,339 : INFO : PROGRESS: at 74.77% examples, 128113 words/s, in_qsize 6, out_qsize 0\n",
      "2017-02-25 22:32:17,360 : INFO : PROGRESS: at 74.99% examples, 128131 words/s, in_qsize 6, out_qsize 0\n",
      "2017-02-25 22:32:18,435 : INFO : PROGRESS: at 75.23% examples, 128131 words/s, in_qsize 6, out_qsize 0\n",
      "2017-02-25 22:32:19,447 : INFO : PROGRESS: at 75.45% examples, 128146 words/s, in_qsize 6, out_qsize 0\n",
      "2017-02-25 22:32:20,466 : INFO : PROGRESS: at 75.64% examples, 128108 words/s, in_qsize 6, out_qsize 0\n",
      "2017-02-25 22:32:21,501 : INFO : PROGRESS: at 75.83% examples, 128066 words/s, in_qsize 5, out_qsize 0\n",
      "2017-02-25 22:32:22,515 : INFO : PROGRESS: at 76.00% examples, 128010 words/s, in_qsize 6, out_qsize 0\n",
      "2017-02-25 22:32:23,530 : INFO : PROGRESS: at 76.21% examples, 128012 words/s, in_qsize 5, out_qsize 0\n",
      "2017-02-25 22:32:24,543 : INFO : PROGRESS: at 76.38% examples, 127942 words/s, in_qsize 5, out_qsize 0\n",
      "2017-02-25 22:32:25,535 : INFO : PROGRESS: at 76.60% examples, 127971 words/s, in_qsize 5, out_qsize 0\n",
      "2017-02-25 22:32:26,582 : INFO : PROGRESS: at 76.75% examples, 127876 words/s, in_qsize 6, out_qsize 0\n",
      "2017-02-25 22:32:27,642 : INFO : PROGRESS: at 76.94% examples, 127827 words/s, in_qsize 5, out_qsize 0\n",
      "2017-02-25 22:32:28,689 : INFO : PROGRESS: at 77.12% examples, 127766 words/s, in_qsize 5, out_qsize 0\n",
      "2017-02-25 22:32:29,760 : INFO : PROGRESS: at 77.25% examples, 127618 words/s, in_qsize 5, out_qsize 0\n",
      "2017-02-25 22:32:30,769 : INFO : PROGRESS: at 77.44% examples, 127586 words/s, in_qsize 6, out_qsize 0\n",
      "2017-02-25 22:32:31,800 : INFO : PROGRESS: at 77.57% examples, 127453 words/s, in_qsize 6, out_qsize 0\n",
      "2017-02-25 22:32:33,039 : INFO : PROGRESS: at 77.75% examples, 127352 words/s, in_qsize 6, out_qsize 0\n",
      "2017-02-25 22:32:34,047 : INFO : PROGRESS: at 77.94% examples, 127325 words/s, in_qsize 5, out_qsize 0\n",
      "2017-02-25 22:32:35,078 : INFO : PROGRESS: at 78.18% examples, 127366 words/s, in_qsize 5, out_qsize 1\n",
      "2017-02-25 22:32:36,138 : INFO : PROGRESS: at 78.37% examples, 127312 words/s, in_qsize 6, out_qsize 0\n",
      "2017-02-25 22:32:37,177 : INFO : PROGRESS: at 78.58% examples, 127313 words/s, in_qsize 6, out_qsize 0\n",
      "2017-02-25 22:32:38,212 : INFO : PROGRESS: at 78.77% examples, 127270 words/s, in_qsize 6, out_qsize 0\n",
      "2017-02-25 22:32:39,265 : INFO : PROGRESS: at 78.98% examples, 127268 words/s, in_qsize 5, out_qsize 0\n",
      "2017-02-25 22:32:40,290 : INFO : PROGRESS: at 79.22% examples, 127331 words/s, in_qsize 5, out_qsize 0\n",
      "2017-02-25 22:32:41,399 : INFO : PROGRESS: at 79.41% examples, 127264 words/s, in_qsize 5, out_qsize 1\n",
      "2017-02-25 22:32:42,415 : INFO : PROGRESS: at 79.64% examples, 127287 words/s, in_qsize 5, out_qsize 0\n",
      "2017-02-25 22:32:43,572 : INFO : PROGRESS: at 79.81% examples, 127193 words/s, in_qsize 6, out_qsize 0\n",
      "2017-02-25 22:32:44,578 : INFO : PROGRESS: at 80.05% examples, 127238 words/s, in_qsize 5, out_qsize 0\n",
      "2017-02-25 22:32:45,616 : INFO : PROGRESS: at 80.29% examples, 127294 words/s, in_qsize 6, out_qsize 0\n",
      "2017-02-25 22:32:46,628 : INFO : PROGRESS: at 80.53% examples, 127346 words/s, in_qsize 6, out_qsize 0\n",
      "2017-02-25 22:32:47,624 : INFO : PROGRESS: at 80.76% examples, 127390 words/s, in_qsize 5, out_qsize 0\n",
      "2017-02-25 22:32:48,694 : INFO : PROGRESS: at 81.00% examples, 127414 words/s, in_qsize 5, out_qsize 0\n",
      "2017-02-25 22:32:49,723 : INFO : PROGRESS: at 81.23% examples, 127442 words/s, in_qsize 6, out_qsize 0\n",
      "2017-02-25 22:32:50,763 : INFO : PROGRESS: at 81.47% examples, 127476 words/s, in_qsize 5, out_qsize 0\n",
      "2017-02-25 22:32:51,770 : INFO : PROGRESS: at 81.66% examples, 127445 words/s, in_qsize 5, out_qsize 0\n",
      "2017-02-25 22:32:52,793 : INFO : PROGRESS: at 81.89% examples, 127487 words/s, in_qsize 5, out_qsize 0\n",
      "2017-02-25 22:32:53,880 : INFO : PROGRESS: at 82.13% examples, 127505 words/s, in_qsize 6, out_qsize 0\n",
      "2017-02-25 22:32:55,034 : INFO : PROGRESS: at 82.36% examples, 127499 words/s, in_qsize 5, out_qsize 0\n",
      "2017-02-25 22:32:56,151 : INFO : PROGRESS: at 82.61% examples, 127531 words/s, in_qsize 6, out_qsize 0\n",
      "2017-02-25 22:32:57,185 : INFO : PROGRESS: at 82.86% examples, 127584 words/s, in_qsize 5, out_qsize 0\n",
      "2017-02-25 22:32:58,239 : INFO : PROGRESS: at 83.07% examples, 127578 words/s, in_qsize 5, out_qsize 0\n",
      "2017-02-25 22:32:59,277 : INFO : PROGRESS: at 83.33% examples, 127648 words/s, in_qsize 5, out_qsize 0\n",
      "2017-02-25 22:33:00,360 : INFO : PROGRESS: at 83.59% examples, 127710 words/s, in_qsize 6, out_qsize 0\n",
      "2017-02-25 22:33:01,376 : INFO : PROGRESS: at 83.79% examples, 127696 words/s, in_qsize 5, out_qsize 0\n",
      "2017-02-25 22:33:02,379 : INFO : PROGRESS: at 84.03% examples, 127757 words/s, in_qsize 5, out_qsize 0\n",
      "2017-02-25 22:33:03,494 : INFO : PROGRESS: at 84.26% examples, 127756 words/s, in_qsize 5, out_qsize 0\n",
      "2017-02-25 22:33:04,488 : INFO : PROGRESS: at 84.48% examples, 127783 words/s, in_qsize 5, out_qsize 0\n",
      "2017-02-25 22:33:05,510 : INFO : PROGRESS: at 84.73% examples, 127851 words/s, in_qsize 6, out_qsize 0\n",
      "2017-02-25 22:33:06,571 : INFO : PROGRESS: at 84.99% examples, 127910 words/s, in_qsize 5, out_qsize 0\n",
      "2017-02-25 22:33:07,596 : INFO : PROGRESS: at 85.23% examples, 127973 words/s, in_qsize 6, out_qsize 0\n",
      "2017-02-25 22:33:08,619 : INFO : PROGRESS: at 85.48% examples, 128034 words/s, in_qsize 6, out_qsize 0\n",
      "2017-02-25 22:33:09,652 : INFO : PROGRESS: at 85.74% examples, 128107 words/s, in_qsize 6, out_qsize 0\n",
      "2017-02-25 22:33:10,709 : INFO : PROGRESS: at 86.00% examples, 128181 words/s, in_qsize 6, out_qsize 0\n",
      "2017-02-25 22:33:11,721 : INFO : PROGRESS: at 86.26% examples, 128261 words/s, in_qsize 5, out_qsize 0\n",
      "2017-02-25 22:33:12,751 : INFO : PROGRESS: at 86.50% examples, 128318 words/s, in_qsize 6, out_qsize 0\n",
      "2017-02-25 22:33:13,791 : INFO : PROGRESS: at 86.76% examples, 128389 words/s, in_qsize 6, out_qsize 0\n",
      "2017-02-25 22:33:14,799 : INFO : PROGRESS: at 87.01% examples, 128450 words/s, in_qsize 5, out_qsize 0\n",
      "2017-02-25 22:33:15,812 : INFO : PROGRESS: at 87.25% examples, 128516 words/s, in_qsize 6, out_qsize 0\n",
      "2017-02-25 22:33:16,848 : INFO : PROGRESS: at 87.49% examples, 128546 words/s, in_qsize 5, out_qsize 0\n",
      "2017-02-25 22:33:17,881 : INFO : PROGRESS: at 87.74% examples, 128594 words/s, in_qsize 5, out_qsize 0\n",
      "2017-02-25 22:33:18,895 : INFO : PROGRESS: at 87.89% examples, 128518 words/s, in_qsize 5, out_qsize 0\n",
      "2017-02-25 22:33:19,927 : INFO : PROGRESS: at 88.03% examples, 128414 words/s, in_qsize 5, out_qsize 0\n",
      "2017-02-25 22:33:20,930 : INFO : PROGRESS: at 88.18% examples, 128337 words/s, in_qsize 6, out_qsize 0\n",
      "2017-02-25 22:33:21,945 : INFO : PROGRESS: at 88.38% examples, 128326 words/s, in_qsize 5, out_qsize 0\n",
      "2017-02-25 22:33:22,978 : INFO : PROGRESS: at 88.62% examples, 128364 words/s, in_qsize 5, out_qsize 0\n",
      "2017-02-25 22:33:23,987 : INFO : PROGRESS: at 88.81% examples, 128333 words/s, in_qsize 6, out_qsize 0\n",
      "2017-02-25 22:33:25,014 : INFO : PROGRESS: at 89.04% examples, 128371 words/s, in_qsize 5, out_qsize 0\n",
      "2017-02-25 22:33:26,029 : INFO : PROGRESS: at 89.27% examples, 128395 words/s, in_qsize 5, out_qsize 0\n",
      "2017-02-25 22:33:27,074 : INFO : PROGRESS: at 89.50% examples, 128427 words/s, in_qsize 6, out_qsize 0\n",
      "2017-02-25 22:33:28,103 : INFO : PROGRESS: at 89.70% examples, 128412 words/s, in_qsize 5, out_qsize 0\n",
      "2017-02-25 22:33:29,146 : INFO : PROGRESS: at 89.95% examples, 128461 words/s, in_qsize 6, out_qsize 0\n",
      "2017-02-25 22:33:30,237 : INFO : PROGRESS: at 90.15% examples, 128430 words/s, in_qsize 5, out_qsize 0\n",
      "2017-02-25 22:33:31,239 : INFO : PROGRESS: at 90.35% examples, 128414 words/s, in_qsize 6, out_qsize 0\n",
      "2017-02-25 22:33:32,322 : INFO : PROGRESS: at 90.55% examples, 128387 words/s, in_qsize 5, out_qsize 0\n",
      "2017-02-25 22:33:33,417 : INFO : PROGRESS: at 90.73% examples, 128338 words/s, in_qsize 6, out_qsize 0\n",
      "2017-02-25 22:33:34,429 : INFO : PROGRESS: at 90.88% examples, 128249 words/s, in_qsize 5, out_qsize 0\n",
      "2017-02-25 22:33:35,472 : INFO : PROGRESS: at 90.98% examples, 128095 words/s, in_qsize 6, out_qsize 0\n",
      "2017-02-25 22:33:36,669 : INFO : PROGRESS: at 91.11% examples, 127934 words/s, in_qsize 6, out_qsize 0\n",
      "2017-02-25 22:33:37,733 : INFO : PROGRESS: at 91.33% examples, 127938 words/s, in_qsize 5, out_qsize 0\n",
      "2017-02-25 22:33:38,762 : INFO : PROGRESS: at 91.56% examples, 127959 words/s, in_qsize 6, out_qsize 0\n",
      "2017-02-25 22:33:39,824 : INFO : PROGRESS: at 91.80% examples, 128003 words/s, in_qsize 5, out_qsize 0\n",
      "2017-02-25 22:33:40,858 : INFO : PROGRESS: at 92.05% examples, 128052 words/s, in_qsize 5, out_qsize 0\n",
      "2017-02-25 22:33:41,876 : INFO : PROGRESS: at 92.23% examples, 128007 words/s, in_qsize 5, out_qsize 0\n",
      "2017-02-25 22:33:42,963 : INFO : PROGRESS: at 92.38% examples, 127911 words/s, in_qsize 5, out_qsize 0\n",
      "2017-02-25 22:33:44,092 : INFO : PROGRESS: at 92.57% examples, 127855 words/s, in_qsize 5, out_qsize 0\n",
      "2017-02-25 22:33:45,099 : INFO : PROGRESS: at 92.80% examples, 127896 words/s, in_qsize 6, out_qsize 0\n",
      "2017-02-25 22:33:46,115 : INFO : PROGRESS: at 93.04% examples, 127934 words/s, in_qsize 5, out_qsize 1\n",
      "2017-02-25 22:33:47,123 : INFO : PROGRESS: at 93.20% examples, 127877 words/s, in_qsize 5, out_qsize 0\n",
      "2017-02-25 22:33:48,144 : INFO : PROGRESS: at 93.33% examples, 127769 words/s, in_qsize 6, out_qsize 0\n",
      "2017-02-25 22:33:49,351 : INFO : PROGRESS: at 93.56% examples, 127738 words/s, in_qsize 5, out_qsize 1\n",
      "2017-02-25 22:33:50,358 : INFO : PROGRESS: at 93.79% examples, 127779 words/s, in_qsize 5, out_qsize 0\n",
      "2017-02-25 22:33:51,429 : INFO : PROGRESS: at 93.94% examples, 127690 words/s, in_qsize 6, out_qsize 0\n",
      "2017-02-25 22:33:52,506 : INFO : PROGRESS: at 94.09% examples, 127585 words/s, in_qsize 5, out_qsize 0\n",
      "2017-02-25 22:33:53,575 : INFO : PROGRESS: at 94.24% examples, 127501 words/s, in_qsize 5, out_qsize 0\n",
      "2017-02-25 22:33:54,583 : INFO : PROGRESS: at 94.47% examples, 127540 words/s, in_qsize 5, out_qsize 0\n",
      "2017-02-25 22:33:55,622 : INFO : PROGRESS: at 94.63% examples, 127463 words/s, in_qsize 6, out_qsize 0\n",
      "2017-02-25 22:33:56,643 : INFO : PROGRESS: at 94.80% examples, 127421 words/s, in_qsize 4, out_qsize 0\n",
      "2017-02-25 22:33:57,703 : INFO : PROGRESS: at 95.06% examples, 127462 words/s, in_qsize 5, out_qsize 0\n",
      "2017-02-25 22:33:58,740 : INFO : PROGRESS: at 95.31% examples, 127499 words/s, in_qsize 6, out_qsize 0\n",
      "2017-02-25 22:33:59,791 : INFO : PROGRESS: at 95.49% examples, 127440 words/s, in_qsize 5, out_qsize 0\n",
      "2017-02-25 22:34:00,800 : INFO : PROGRESS: at 95.70% examples, 127445 words/s, in_qsize 5, out_qsize 0\n",
      "2017-02-25 22:34:01,853 : INFO : PROGRESS: at 95.88% examples, 127409 words/s, in_qsize 6, out_qsize 0\n",
      "2017-02-25 22:34:03,066 : INFO : PROGRESS: at 96.06% examples, 127313 words/s, in_qsize 6, out_qsize 0\n",
      "2017-02-25 22:34:04,085 : INFO : PROGRESS: at 96.31% examples, 127365 words/s, in_qsize 5, out_qsize 0\n",
      "2017-02-25 22:34:05,117 : INFO : PROGRESS: at 96.47% examples, 127303 words/s, in_qsize 4, out_qsize 0\n",
      "2017-02-25 22:34:06,153 : INFO : PROGRESS: at 96.66% examples, 127271 words/s, in_qsize 5, out_qsize 0\n",
      "2017-02-25 22:34:07,208 : INFO : PROGRESS: at 96.84% examples, 127226 words/s, in_qsize 5, out_qsize 0\n",
      "2017-02-25 22:34:08,221 : INFO : PROGRESS: at 97.03% examples, 127199 words/s, in_qsize 6, out_qsize 0\n",
      "2017-02-25 22:34:09,225 : INFO : PROGRESS: at 97.24% examples, 127206 words/s, in_qsize 4, out_qsize 0\n",
      "2017-02-25 22:34:10,250 : INFO : PROGRESS: at 97.46% examples, 127228 words/s, in_qsize 5, out_qsize 0\n",
      "2017-02-25 22:34:11,251 : INFO : PROGRESS: at 97.67% examples, 127237 words/s, in_qsize 6, out_qsize 0\n",
      "2017-02-25 22:34:12,257 : INFO : PROGRESS: at 97.85% examples, 127202 words/s, in_qsize 5, out_qsize 0\n",
      "2017-02-25 22:34:13,291 : INFO : PROGRESS: at 98.06% examples, 127210 words/s, in_qsize 6, out_qsize 0\n",
      "2017-02-25 22:34:14,303 : INFO : PROGRESS: at 98.21% examples, 127137 words/s, in_qsize 6, out_qsize 0\n",
      "2017-02-25 22:34:15,374 : INFO : PROGRESS: at 98.46% examples, 127166 words/s, in_qsize 6, out_qsize 0\n",
      "2017-02-25 22:34:16,410 : INFO : PROGRESS: at 98.68% examples, 127184 words/s, in_qsize 6, out_qsize 0\n",
      "2017-02-25 22:34:17,416 : INFO : PROGRESS: at 98.92% examples, 127219 words/s, in_qsize 4, out_qsize 0\n",
      "2017-02-25 22:34:18,462 : INFO : PROGRESS: at 99.15% examples, 127253 words/s, in_qsize 5, out_qsize 0\n",
      "2017-02-25 22:34:19,510 : INFO : PROGRESS: at 99.40% examples, 127287 words/s, in_qsize 5, out_qsize 0\n",
      "2017-02-25 22:34:20,555 : INFO : PROGRESS: at 99.65% examples, 127325 words/s, in_qsize 5, out_qsize 0\n",
      "2017-02-25 22:34:21,643 : INFO : PROGRESS: at 99.86% examples, 127317 words/s, in_qsize 5, out_qsize 0\n",
      "2017-02-25 22:34:22,083 : INFO : worker thread finished; awaiting finish of 2 more threads\n",
      "2017-02-25 22:34:22,129 : INFO : worker thread finished; awaiting finish of 1 more threads\n",
      "2017-02-25 22:34:22,145 : INFO : worker thread finished; awaiting finish of 0 more threads\n",
      "2017-02-25 22:34:22,145 : INFO : training on 85026035 raw words (62534588 effective words) took 491.0s, 127362 effective words/s\n"
     ]
    },
    {
     "name": "stdout",
     "output_type": "stream",
     "text": [
      "ВЫполнилось за: 532.699 sec\n"
     ]
    }
   ],
   "source": [
    "with Timing() as t:\n",
    "    model = word2vec.Word2Vec(sentences, size=200)\n"
   ]
  },
  {
   "cell_type": "markdown",
   "metadata": {},
   "source": [
    "# 2) близкие слова"
   ]
  },
  {
   "cell_type": "code",
   "execution_count": 157,
   "metadata": {
    "collapsed": false
   },
   "outputs": [
    {
     "name": "stderr",
     "output_type": "stream",
     "text": [
      "2017-02-25 22:34:22,208 : INFO : precomputing L2-norms of word weight vectors\n"
     ]
    },
    {
     "name": "stdout",
     "output_type": "stream",
     "text": [
      "man\n",
      "[('woman', 0.7121561765670776), ('girl', 0.5960450768470764), ('creature', 0.5647821426391602), ('boy', 0.5564923286437988), ('person', 0.529812216758728), ('men', 0.5098729729652405), ('stranger', 0.4949547052383423), ('evil', 0.4932570457458496), ('god', 0.4915098249912262), ('beast', 0.489301860332489)]\n",
      "woman\n",
      "[('child', 0.747947096824646), ('girl', 0.7449257373809814), ('man', 0.7121561765670776), ('lady', 0.6591818332672119), ('person', 0.6316910982131958), ('bride', 0.6173946857452393), ('prostitute', 0.6150237321853638), ('mother', 0.6140801310539246), ('herself', 0.6137461066246033), ('stranger', 0.6118595600128174)]\n",
      "fluffy\n",
      "[('variegated', 0.8207587003707886), ('gravy', 0.8138447999954224), ('enamel', 0.8110567331314087), ('dolomite', 0.8035688400268555), ('brownish', 0.8028855323791504), ('metallized', 0.7951198220252991), ('creamy', 0.7947062849998474), ('straps', 0.7944703102111816), ('yellowish', 0.7938053607940674), ('labia', 0.7932218313217163)]\n",
      "happy\n",
      "[('quiet', 0.6595885753631592), ('lucky', 0.6424779891967773), ('sad', 0.6213125586509705), ('bad', 0.6123262047767639), ('laugh', 0.6032135486602783), ('baby', 0.5965054035186768), ('forever', 0.5906044244766235), ('funny', 0.5854822397232056), ('merry', 0.5824939012527466), ('scared', 0.5708041787147522)]\n",
      "love\n",
      "[('loving', 0.6537153720855713), ('grace', 0.6317025423049927), ('passion', 0.6118969917297363), ('affection', 0.6076583862304688), ('praise', 0.604678213596344), ('my', 0.5916292667388916), ('me', 0.5872521996498108), ('bride', 0.5819641351699829), ('girl', 0.5786972045898438), ('shame', 0.5739827156066895)]\n",
      "hate\n",
      "[('homophobia', 0.6531991958618164), ('immoral', 0.638983964920044), ('homosexuals', 0.6379947662353516), ('committing', 0.6300784349441528), ('affirmative', 0.6219785213470459), ('morally', 0.6212352514266968), ('labeling', 0.6175044775009155), ('lesbians', 0.6150450706481934), ('racist', 0.6126317977905273), ('libertarians', 0.6099841594696045)]\n",
      "lemon\n",
      "[('pepper', 0.8813232183456421), ('ginger', 0.8432375192642212), ('onions', 0.8348616361618042), ('tomato', 0.8324811458587646), ('garlic', 0.8262823820114136), ('peppers', 0.820112943649292), ('flavored', 0.8195173740386963), ('cabbage', 0.8180321455001831), ('candy', 0.8179486989974976), ('vanilla', 0.8165692687034607)]\n"
     ]
    }
   ],
   "source": [
    "\n",
    "print('man')\n",
    "print(model.most_similar(['man']))\n",
    "print('woman')\n",
    "print(model.most_similar(['woman']))\n",
    "print('fluffy')\n",
    "print(model.most_similar(['fluffy'])) # в топе характеристики, свойственные объектам с характеристикой \"пушистый\"\n",
    "print('happy')\n",
    "print(model.most_similar(['happy']))\n",
    "print('love')\n",
    "print(model.most_similar(['love']))\n",
    "print('hate')\n",
    "print(model.most_similar(['hate']))\n",
    "print('lemon')\n",
    "print(model.most_similar(['lemon']))"
   ]
  },
  {
   "cell_type": "markdown",
   "metadata": {},
   "source": [
    "Вывод:\n",
    " \n",
    "Слова найдены корректно (за исключением пушистый - акула, хотя может мы чего-то не знаем). Близкие слова - это не только синонимы, но и слова, часто встречающиеся в контексте с заданным объектом (женщина - ребенок, младенец). Близкие слова также те, что встречаются в устойчивых словосочетаниях (смысловых связках) с нашим словом (ненависть - гомофобия). И даже антонимы. \n",
    " Также, если слово - это характеристика \"h\", ее близкие слова - другие характеристики объекта, наделенного \"h\" (пушистый - кремовый, желтоватый)"
   ]
  },
  {
   "cell_type": "markdown",
   "metadata": {},
   "source": [
    "\n",
    "# 3) ассоциации"
   ]
  },
  {
   "cell_type": "code",
   "execution_count": 158,
   "metadata": {
    "collapsed": false
   },
   "outputs": [
    {
     "name": "stdout",
     "output_type": "stream",
     "text": [
      "[('queen', 0.6651598811149597)]\n",
      "[('nurse', 0.5982164144515991)]\n",
      "[('mother', 0.8297796249389648)]\n",
      "[('girl', 0.7164499759674072)]\n",
      "[('wife', 0.7788426876068115)]\n",
      "[('repetitious', 0.6675078272819519)]\n",
      "[('wet', 0.7706887722015381)]\n",
      "[('strange', 0.5902701616287231)]\n",
      "[('shrubs', 0.7412571907043457)]\n",
      "[('baldr', 0.6247202157974243)]\n"
     ]
    }
   ],
   "source": [
    "\n",
    "#классика жанра - все отлично: (ассоциации корректны)\n",
    "\n",
    "print(model.most_similar(positive=['woman', 'king'], negative=['man'], topn=1))\n",
    "print(model.most_similar(positive=['woman', 'doctor'], negative=['man'], topn=1))\n",
    "print(model.most_similar(positive=['woman', 'father'], negative=['man'], topn=1))\n",
    "print(model.most_similar(positive=['woman', 'boy'], negative=['man'], topn=1))\n",
    "print(model.most_similar(positive=['woman', 'brother'], negative=['man'], topn=1))\n",
    "\n",
    "\n",
    "print(model.most_similar(positive=['waterfall', 'calm'], negative=['lake'], topn=1)) #возвращает \"трещащий\" +/- подходит\n",
    "print(model.most_similar(positive=['rain', 'dry'], negative=['sun'], topn=1))\n",
    "print(model.most_similar(positive=['sky', 'animal'], negative=['ground'], topn=1))\n",
    "print(model.most_similar(positive=['fish', 'sand'], negative=['snake'], topn=1))\n",
    "print(model.most_similar(positive=['pot', 'fry'], negative=['pan'], topn=1))\n",
    "\n",
    "\n"
   ]
  },
  {
   "cell_type": "markdown",
   "metadata": {},
   "source": [
    " вывод: результат удовлетворительный для примеров выше\n",
    " \n",
    "\n",
    " Однако порядок поиска ассоциации в паре важен.\n",
    " Например:"
   ]
  },
  {
   "cell_type": "code",
   "execution_count": 159,
   "metadata": {
    "collapsed": false
   },
   "outputs": [
    {
     "name": "stdout",
     "output_type": "stream",
     "text": [
      "верный результат для пары котелок-плавить, кипятить-?-чайник:\n",
      "[('drop', 0.6301066875457764)]\n",
      "Некорректный результат для аналогичных пар:\n",
      "[('basket', 0.6588571071624756)]\n",
      "[('emulsions', 0.7365555763244629)]\n"
     ]
    }
   ],
   "source": [
    "print(\"верный результат для пары котелок-плавить, кипятить-?-чайник:\")\n",
    "print(model.most_similar(positive=['pot', 'boil'], negative=['kettle'], topn=1))\n",
    "print(\"Некорректный результат для аналогичных пар:\")\n",
    "print(model.most_similar(positive=['boil', 'pot'], negative=['melt'], topn=1))\n",
    "print(model.most_similar(positive=['kettle', 'melt'], negative=['pot'], topn=1))\n",
    "\n"
   ]
  },
  {
   "cell_type": "markdown",
   "metadata": {},
   "source": [
    "# 4) лишнее"
   ]
  },
  {
   "cell_type": "code",
   "execution_count": 160,
   "metadata": {
    "collapsed": false
   },
   "outputs": [
    {
     "name": "stdout",
     "output_type": "stream",
     "text": [
      "cereal\n",
      "literature\n",
      "lion\n",
      "calm\n",
      "cold\n",
      "chicken\n"
     ]
    }
   ],
   "source": [
    "\n",
    "print(model.doesnt_match(\"breakfast cereal dinner lunch\".split()))\n",
    "print(model.doesnt_match(\"physics biology chemestry literature\".split()))\n",
    "print(model.doesnt_match(\"tiger lion cat leopard\".split()))\n",
    "print(model.doesnt_match(\"strange calm mad crazy \".split()))\n",
    "print(model.doesnt_match(\"sky cold blue sun rain \".split()))\n",
    "print(model.doesnt_match(\"murder knive blood chicken\".split()))\n",
    "\n",
    "\n",
    "\n",
    "\n"
   ]
  },
  {
   "cell_type": "markdown",
   "metadata": {},
   "source": [
    " вывод: в данных примерах - корректно, но:"
   ]
  },
  {
   "cell_type": "code",
   "execution_count": 161,
   "metadata": {
    "collapsed": false
   },
   "outputs": [
    {
     "name": "stdout",
     "output_type": "stream",
     "text": [
      "chair\n"
     ]
    }
   ],
   "source": [
    "print(model.doesnt_match(\"table chair bed cat\".split()))\n",
    "#некорректно исключено слово\n",
    "#возможно, нужен больший датасет"
   ]
  },
  {
   "cell_type": "markdown",
   "metadata": {},
   "source": [
    "# 5.1)Транзитивность (a-b, b-c -> a-c)"
   ]
  },
  {
   "cell_type": "code",
   "execution_count": 162,
   "metadata": {
    "collapsed": false
   },
   "outputs": [
    {
     "name": "stdout",
     "output_type": "stream",
     "text": [
      "rain, snow, dry\n",
      "[('snow', 0.8263498544692993), ('dry', 0.7717539072036743), ('rains', 0.7652952671051025), ('wet', 0.7536871433258057), ('warm', 0.726309061050415), ('snowfall', 0.723011314868927), ('cool', 0.7188685536384583), ('hot', 0.7156006097793579), ('precipitation', 0.7148069739341736), ('winds', 0.7056048512458801)]\n",
      "[('rain', 0.8263498544692993), ('cool', 0.7369426488876343), ('snowfall', 0.7349791526794434), ('dry', 0.7336815595626831), ('wet', 0.726294755935669), ('warm', 0.7166445255279541), ('hot', 0.7156862020492554), ('winters', 0.7092907428741455), ('sunny', 0.7055899500846863), ('rains', 0.6931149363517761)]\n",
      "meat, milk, vegetables\n",
      "[('vegetables', 0.883508563041687), ('beef', 0.8803690671920776), ('milk', 0.8779645562171936), ('fruits', 0.8626663088798523), ('honey', 0.8505385518074036), ('pork', 0.8358074426651001), ('beans', 0.8286389708518982), ('foods', 0.8285496234893799), ('potatoes', 0.8239412307739258), ('drink', 0.8234729766845703)]\n",
      "[('meat', 0.8779646158218384), ('honey', 0.869479775428772), ('vegetables', 0.8483485579490662), ('beans', 0.8431382179260254), ('fruit', 0.8377650380134583), ('beef', 0.8341253399848938), ('sugar', 0.8300881385803223), ('fermented', 0.8295213580131531), ('drinks', 0.828884482383728), ('fruits', 0.827919602394104)]\n"
     ]
    }
   ],
   "source": [
    "# 1) выполняется\n",
    "print('rain, snow, dry') \n",
    "print(model.most_similar('rain'))\n",
    "print(model.most_similar('snow') )\n",
    "\n",
    "print('meat, milk, vegetables')\n",
    "print(model.most_similar('meat'))\n",
    "print(model.most_similar('milk') )\n",
    "\n",
    "# rain - snow, rains,dry; snow - rain, dry, hot; -> rain-dry верно!\n",
    "# meat - milk, vegetables, vegetable; milk - meat,vegetables, vegetable; -> meat-vegetables верно!\n"
   ]
  },
  {
   "cell_type": "code",
   "execution_count": 163,
   "metadata": {
    "collapsed": false
   },
   "outputs": [
    {
     "name": "stdout",
     "output_type": "stream",
     "text": [
      "kindness, patience, courage\n",
      "[('loving', 0.7422441840171814), ('righteousness', 0.7263967990875244), ('compassion', 0.7189528942108154), ('patience', 0.7169145941734314), ('sinful', 0.6981627941131592), ('humility', 0.6979604959487915), ('honesty', 0.6945834159851074), ('steadfast', 0.6854521036148071), ('repentance', 0.682029128074646), ('chastity', 0.6794490814208984)]\n",
      "[('kindness', 0.7169145345687866), ('courage', 0.7014985084533691), ('compassion', 0.6839947700500488), ('adultery', 0.6667131185531616), ('humility', 0.6553380489349365), ('remorse', 0.6405942440032959), ('honesty', 0.6397520303726196), ('therapist', 0.6360495090484619), ('sincere', 0.6295442581176758), ('regrets', 0.6258399486541748)]\n"
     ]
    }
   ],
   "source": [
    "# 2) не выполняется \n",
    "\n",
    "      \n",
    "print('kindness, patience, courage')\n",
    "print(model.most_similar('kindness')) \n",
    "print(model.most_similar('patience'))\n",
    "#courage не в топе у kindness\n",
    "\n",
    "print('man, creature, monster')\n",
    "print(model.most_similar('man'))\n",
    "print(model.most_similar('creature'))\n",
    "#monster не в топе у man\n"
   ]
  },
  {
   "cell_type": "markdown",
   "metadata": {},
   "source": [
    "# 5.2) Коммутативность\n",
    "(пары слов \"в топ-3\" друг у друга)"
   ]
  },
  {
   "cell_type": "code",
   "execution_count": 164,
   "metadata": {
    "collapsed": false
   },
   "outputs": [
    {
     "name": "stdout",
     "output_type": "stream",
     "text": [
      "meat and milk!\n",
      "[('vegetables', 0.883508563041687), ('beef', 0.8803690671920776), ('milk', 0.8779645562171936), ('fruits', 0.8626663088798523), ('honey', 0.8505385518074036), ('pork', 0.8358074426651001), ('beans', 0.8286389708518982), ('foods', 0.8285496234893799), ('potatoes', 0.8239412307739258), ('drink', 0.8234729766845703)]\n",
      "[('meat', 0.8779646158218384), ('honey', 0.869479775428772), ('vegetables', 0.8483485579490662), ('beans', 0.8431382179260254), ('fruit', 0.8377650380134583), ('beef', 0.8341253399848938), ('sugar', 0.8300881385803223), ('fermented', 0.8295213580131531), ('drinks', 0.828884482383728), ('fruits', 0.827919602394104)]\n",
      "rain and snow!\n",
      "[('snow', 0.8263498544692993), ('dry', 0.7717539072036743), ('rains', 0.7652952671051025), ('wet', 0.7536871433258057), ('warm', 0.726309061050415), ('snowfall', 0.723011314868927), ('cool', 0.7188685536384583), ('hot', 0.7156006097793579), ('precipitation', 0.7148069739341736), ('winds', 0.7056048512458801)]\n",
      "[('rain', 0.8263498544692993), ('cool', 0.7369426488876343), ('snowfall', 0.7349791526794434), ('dry', 0.7336815595626831), ('wet', 0.726294755935669), ('warm', 0.7166445255279541), ('hot', 0.7156862020492554), ('winters', 0.7092907428741455), ('sunny', 0.7055899500846863), ('rains', 0.6931149363517761)]\n"
     ]
    }
   ],
   "source": [
    "# 1) выполняется\n",
    "print('meat and milk!')\n",
    "print(model.most_similar('meat'))\n",
    "print(model.most_similar('milk'))\n",
    "print('rain and snow!')\n",
    "print(model.most_similar('rain'))\n",
    "print(model.most_similar('snow'))\n",
    "\n",
    "\n"
   ]
  },
  {
   "cell_type": "code",
   "execution_count": 175,
   "metadata": {
    "collapsed": false
   },
   "outputs": [
    {
     "name": "stdout",
     "output_type": "stream",
     "text": [
      "man and creature!\n",
      "[('woman', 0.7121561765670776), ('girl', 0.5960450768470764), ('creature', 0.5647821426391602), ('boy', 0.5564923286437988), ('person', 0.529812216758728), ('men', 0.5098729729652405), ('stranger', 0.4949547052383423), ('evil', 0.4932570457458496), ('god', 0.4915098249912262), ('beast', 0.489301860332489)]\n",
      "[('monster', 0.7919007539749146), ('beast', 0.7249110341072083), ('creatures', 0.7129185199737549), ('minotaur', 0.6995399594306946), ('ness', 0.6928474307060242), ('giant', 0.6810121536254883), ('demon', 0.673064649105072), ('loch', 0.6708182096481323), ('serpent', 0.6678874492645264), ('cow', 0.6623492240905762)]\n",
      "absolution and forgiveness!\n",
      "[('sadness', 0.6946378946304321), ('enthusiasm', 0.6848292350769043), ('frustration', 0.6803076863288879), ('irony', 0.6646029949188232), ('anger', 0.6600480079650879), ('jealousy', 0.6597061157226562), ('dread', 0.6532150506973267), ('grief', 0.6389915347099304), ('insults', 0.6389597654342651), ('moustache', 0.6388490200042725)]\n",
      "[('admiration', 0.7601298093795776), ('sympathy', 0.7274821996688843), ('disdain', 0.717215895652771), ('affection', 0.7117133140563965), ('feelings', 0.691117525100708), ('disgust', 0.6848292350769043), ('frustration', 0.6810175180435181), ('fascination', 0.674179196357727), ('ambition', 0.6729651689529419), ('fondness', 0.6639379262924194)]\n"
     ]
    }
   ],
   "source": [
    "# 2) не выполняется\n",
    "print('man and creature!')\n",
    "print(model.most_similar('man'))\n",
    "print(model.most_similar('creature'))\n",
    "\n",
    "\n",
    "print('disgust and enthusiasm!')\n",
    "print(model.most_similar('disgust'))\n",
    "print(model.most_similar('enthusiasm'))\n",
    "\n"
   ]
  }
 ],
 "metadata": {
  "anaconda-cloud": {},
  "kernelspec": {
   "display_name": "Python [default]",
   "language": "python",
   "name": "python3"
  },
  "language_info": {
   "codemirror_mode": {
    "name": "ipython",
    "version": 3
   },
   "file_extension": ".py",
   "mimetype": "text/x-python",
   "name": "python",
   "nbconvert_exporter": "python",
   "pygments_lexer": "ipython3",
   "version": "3.5.2"
  }
 },
 "nbformat": 4,
 "nbformat_minor": 1
}
